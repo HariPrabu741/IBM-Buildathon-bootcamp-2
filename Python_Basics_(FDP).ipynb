{
  "nbformat": 4,
  "nbformat_minor": 0,
  "metadata": {
    "colab": {
      "provenance": []
    },
    "kernelspec": {
      "name": "python3",
      "display_name": "Python 3"
    },
    "language_info": {
      "name": "python"
    }
  },
  "cells": [
    {
      "cell_type": "markdown",
      "source": [
        "# Print statement"
      ],
      "metadata": {
        "id": "9G7D8o_BMZFo"
      }
    },
    {
      "cell_type": "code",
      "execution_count": 1,
      "metadata": {
        "colab": {
          "base_uri": "https://localhost:8080/",
          "height": 143
        },
        "id": "hEsMSmleI8yI",
        "outputId": "5bc35161-89ae-41c0-a6e0-dde69244e9bf"
      },
      "outputs": [
        {
          "output_type": "error",
          "ename": "SyntaxError",
          "evalue": "ignored",
          "traceback": [
            "\u001b[0;36m  File \u001b[0;32m\"<ipython-input-1-33ab5639bfd8>\"\u001b[0;36m, line \u001b[0;32m1\u001b[0m\n\u001b[0;31m    Hello world\u001b[0m\n\u001b[0m          ^\u001b[0m\n\u001b[0;31mSyntaxError\u001b[0m\u001b[0;31m:\u001b[0m invalid syntax\n"
          ]
        }
      ],
      "source": [
        "Hello world"
      ]
    },
    {
      "cell_type": "code",
      "source": [
        "print(Hello world)"
      ],
      "metadata": {
        "id": "qxmbzWHQLMU5"
      },
      "execution_count": null,
      "outputs": []
    },
    {
      "cell_type": "code",
      "source": [
        "print('Hello world')"
      ],
      "metadata": {
        "id": "pWgMvhAjLhyU"
      },
      "execution_count": null,
      "outputs": []
    },
    {
      "cell_type": "code",
      "source": [
        "print(\"Hello world\")"
      ],
      "metadata": {
        "id": "bnyaciSaLpkf"
      },
      "execution_count": null,
      "outputs": []
    },
    {
      "cell_type": "code",
      "source": [
        "print('Welcome to Hari's session')"
      ],
      "metadata": {
        "id": "DT7ugH9LLt0r"
      },
      "execution_count": null,
      "outputs": []
    },
    {
      "cell_type": "code",
      "source": [
        "print(\"Welcome to Hari's session\")"
      ],
      "metadata": {
        "id": "OJSdXM7IL-Ex"
      },
      "execution_count": null,
      "outputs": []
    },
    {
      "cell_type": "code",
      "source": [
        "print(2)"
      ],
      "metadata": {
        "id": "xxYZ0blVMISt"
      },
      "execution_count": null,
      "outputs": []
    },
    {
      "cell_type": "code",
      "source": [
        "print('2')"
      ],
      "metadata": {
        "id": "FjMi8WhnMkE-"
      },
      "execution_count": null,
      "outputs": []
    },
    {
      "cell_type": "markdown",
      "source": [
        "# Comments\n",
        "\n",
        "### Single line comments & Multi line comments"
      ],
      "metadata": {
        "id": "4MKMZ_3XM97T"
      }
    },
    {
      "cell_type": "code",
      "source": [
        "a = 32 a is age\n",
        "print(a)"
      ],
      "metadata": {
        "id": "wnlZ3jEcMmHT"
      },
      "execution_count": null,
      "outputs": []
    },
    {
      "cell_type": "code",
      "source": [
        "a = 32 #a is age\n",
        "print(a)"
      ],
      "metadata": {
        "id": "9-dKggLHNRDE"
      },
      "execution_count": null,
      "outputs": []
    },
    {
      "cell_type": "code",
      "source": [
        "a1 = 23\n",
        "a2 = 43\n",
        "# age of person 1\n",
        "# age of person 2"
      ],
      "metadata": {
        "id": "17za2aj_N6vg"
      },
      "execution_count": null,
      "outputs": []
    },
    {
      "cell_type": "code",
      "source": [
        "'''a1 is person 1 age\n",
        "a2 is person 2 age'''\n",
        "\n",
        "a1 = 23\n",
        "a2 = 43"
      ],
      "metadata": {
        "id": "XHCcWPt-OTKC"
      },
      "execution_count": null,
      "outputs": []
    },
    {
      "cell_type": "code",
      "source": [
        "\"\"\"a1 is person 1 age\n",
        "a2 is person 2 age\"\"\"\n",
        "\n",
        "a1 = 23\n",
        "a2 = 43"
      ],
      "metadata": {
        "id": "lpBitCm6Of0Q"
      },
      "execution_count": null,
      "outputs": []
    },
    {
      "cell_type": "markdown",
      "source": [
        "# Variables & Literals"
      ],
      "metadata": {
        "id": "z3r1r9NZOzQr"
      }
    },
    {
      "cell_type": "code",
      "source": [
        "age = 31\n",
        "intro = \"Hello all, I'm Hari. I will be the speaker for this session\""
      ],
      "metadata": {
        "id": "bOso4lKkOmrj"
      },
      "execution_count": null,
      "outputs": []
    },
    {
      "cell_type": "code",
      "source": [
        "intro"
      ],
      "metadata": {
        "id": "DSr7NazAPr6E"
      },
      "execution_count": null,
      "outputs": []
    },
    {
      "cell_type": "code",
      "source": [
        "1age = 12"
      ],
      "metadata": {
        "id": "VMw3xZEKQSJU"
      },
      "execution_count": null,
      "outputs": []
    },
    {
      "cell_type": "code",
      "source": [
        "@age = 12"
      ],
      "metadata": {
        "id": "NGL4C7-_Q9jg"
      },
      "execution_count": null,
      "outputs": []
    },
    {
      "cell_type": "code",
      "source": [
        "first name = 'Hari'"
      ],
      "metadata": {
        "colab": {
          "base_uri": "https://localhost:8080/",
          "height": 143
        },
        "id": "SKHjgJVpRCab",
        "outputId": "250c9b38-7db5-40f8-962e-b9eb44676196"
      },
      "execution_count": 2,
      "outputs": [
        {
          "output_type": "error",
          "ename": "SyntaxError",
          "evalue": "ignored",
          "traceback": [
            "\u001b[0;36m  File \u001b[0;32m\"<ipython-input-2-198b9bb9fba6>\"\u001b[0;36m, line \u001b[0;32m1\u001b[0m\n\u001b[0;31m    first name = 'Hari'\u001b[0m\n\u001b[0m          ^\u001b[0m\n\u001b[0;31mSyntaxError\u001b[0m\u001b[0;31m:\u001b[0m invalid syntax\n"
          ]
        }
      ]
    },
    {
      "cell_type": "code",
      "source": [
        "first_name = 'Hari'"
      ],
      "metadata": {
        "id": "672ReI0cRIas"
      },
      "execution_count": null,
      "outputs": []
    },
    {
      "cell_type": "code",
      "source": [
        "first_name"
      ],
      "metadata": {
        "id": "4k7LlFjDRR9L"
      },
      "execution_count": null,
      "outputs": []
    },
    {
      "cell_type": "code",
      "source": [
        "Age = 21"
      ],
      "metadata": {
        "id": "RRqLp6KcRXAi"
      },
      "execution_count": null,
      "outputs": []
    },
    {
      "cell_type": "markdown",
      "source": [
        "# Basic Arith... ops..."
      ],
      "metadata": {
        "id": "sa6qVVz5Sn6c"
      }
    },
    {
      "cell_type": "code",
      "source": [
        "2+1"
      ],
      "metadata": {
        "id": "hd0mO_L5RbYw"
      },
      "execution_count": null,
      "outputs": []
    },
    {
      "cell_type": "code",
      "source": [
        "1231*453"
      ],
      "metadata": {
        "id": "XSy8td2XSuK7"
      },
      "execution_count": null,
      "outputs": []
    },
    {
      "cell_type": "code",
      "source": [
        "a = 1231*453\n",
        "a"
      ],
      "metadata": {
        "id": "mb6qLreaSvwk"
      },
      "execution_count": null,
      "outputs": []
    },
    {
      "cell_type": "markdown",
      "source": [
        "# List | Tuple | Set | Dict"
      ],
      "metadata": {
        "id": "uYzWRpCOTI6c"
      }
    },
    {
      "cell_type": "code",
      "source": [
        "a = 12,12\n",
        "a"
      ],
      "metadata": {
        "id": "fS4krQR8S0Bq"
      },
      "execution_count": null,
      "outputs": []
    },
    {
      "cell_type": "code",
      "source": [
        "type(a)"
      ],
      "metadata": {
        "id": "HeTDdQE9Ta27"
      },
      "execution_count": null,
      "outputs": []
    },
    {
      "cell_type": "code",
      "source": [
        "a = 12\n",
        "type(a)"
      ],
      "metadata": {
        "colab": {
          "base_uri": "https://localhost:8080/"
        },
        "id": "U7gsdTTlTgFv",
        "outputId": "f1fd4f5f-49c8-4719-a291-8e34535419c9"
      },
      "execution_count": 3,
      "outputs": [
        {
          "output_type": "execute_result",
          "data": {
            "text/plain": [
              "int"
            ]
          },
          "metadata": {},
          "execution_count": 3
        }
      ]
    },
    {
      "cell_type": "code",
      "source": [
        "# List (enclosed with [] --- mutable --- ordered)"
      ],
      "metadata": {
        "id": "UkImuK3ZTjn_"
      },
      "execution_count": 4,
      "outputs": []
    },
    {
      "cell_type": "code",
      "source": [
        "list_1 = [1,2,3]\n",
        "list_1"
      ],
      "metadata": {
        "colab": {
          "base_uri": "https://localhost:8080/"
        },
        "id": "2-cAG-h1VKn6",
        "outputId": "51ea994b-f94e-461a-dfcf-a1c193c47f61"
      },
      "execution_count": 5,
      "outputs": [
        {
          "output_type": "execute_result",
          "data": {
            "text/plain": [
              "[1, 2, 3]"
            ]
          },
          "metadata": {},
          "execution_count": 5
        }
      ]
    },
    {
      "cell_type": "code",
      "source": [
        "list_1[2]='Hari'"
      ],
      "metadata": {
        "id": "VvNpq_42VSi6"
      },
      "execution_count": 6,
      "outputs": []
    },
    {
      "cell_type": "code",
      "source": [
        "list_1[1]=2+3j"
      ],
      "metadata": {
        "id": "_CIwhPtuVvqB"
      },
      "execution_count": 7,
      "outputs": []
    },
    {
      "cell_type": "code",
      "source": [
        "list_1"
      ],
      "metadata": {
        "colab": {
          "base_uri": "https://localhost:8080/"
        },
        "id": "tNAcmeaVVcVm",
        "outputId": "a669c1ed-fb57-4541-ff7f-ec020d80f843"
      },
      "execution_count": 8,
      "outputs": [
        {
          "output_type": "execute_result",
          "data": {
            "text/plain": [
              "[1, (2+3j), 'Hari']"
            ]
          },
          "metadata": {},
          "execution_count": 8
        }
      ]
    },
    {
      "cell_type": "code",
      "source": [
        "type(list_1)"
      ],
      "metadata": {
        "colab": {
          "base_uri": "https://localhost:8080/"
        },
        "id": "s6JXbT4rVdTO",
        "outputId": "258fa2d5-42dd-4a08-b54f-d168bdb0c80e"
      },
      "execution_count": 9,
      "outputs": [
        {
          "output_type": "execute_result",
          "data": {
            "text/plain": [
              "list"
            ]
          },
          "metadata": {},
          "execution_count": 9
        }
      ]
    },
    {
      "cell_type": "code",
      "source": [
        "# Tuple (enclosed with ()---ordered---immutable)"
      ],
      "metadata": {
        "id": "a98AdlLOVoqS"
      },
      "execution_count": 10,
      "outputs": []
    },
    {
      "cell_type": "code",
      "source": [
        "tuple_1 = (1,2,3)\n",
        "tuple_1"
      ],
      "metadata": {
        "colab": {
          "base_uri": "https://localhost:8080/"
        },
        "id": "fMV9RGNpWVyT",
        "outputId": "f981aa98-5ebc-4fe8-c69b-ceffd1acb26d"
      },
      "execution_count": 11,
      "outputs": [
        {
          "output_type": "execute_result",
          "data": {
            "text/plain": [
              "(1, 2, 3)"
            ]
          },
          "metadata": {},
          "execution_count": 11
        }
      ]
    },
    {
      "cell_type": "code",
      "source": [
        "tuple_1[2]=4"
      ],
      "metadata": {
        "colab": {
          "base_uri": "https://localhost:8080/",
          "height": 179
        },
        "id": "HEUBIn8PWbz8",
        "outputId": "041f32ef-c427-4120-c9ff-6aa546024e8a"
      },
      "execution_count": 12,
      "outputs": [
        {
          "output_type": "error",
          "ename": "TypeError",
          "evalue": "ignored",
          "traceback": [
            "\u001b[0;31m---------------------------------------------------------------------------\u001b[0m",
            "\u001b[0;31mTypeError\u001b[0m                                 Traceback (most recent call last)",
            "\u001b[0;32m<ipython-input-12-2a0e8bd7d459>\u001b[0m in \u001b[0;36m<cell line: 1>\u001b[0;34m()\u001b[0m\n\u001b[0;32m----> 1\u001b[0;31m \u001b[0mtuple_1\u001b[0m\u001b[0;34m[\u001b[0m\u001b[0;36m2\u001b[0m\u001b[0;34m]\u001b[0m\u001b[0;34m=\u001b[0m\u001b[0;36m4\u001b[0m\u001b[0;34m\u001b[0m\u001b[0;34m\u001b[0m\u001b[0m\n\u001b[0m",
            "\u001b[0;31mTypeError\u001b[0m: 'tuple' object does not support item assignment"
          ]
        }
      ]
    },
    {
      "cell_type": "code",
      "source": [
        "# Set (enclosed with {} --- unordered --- immutable)"
      ],
      "metadata": {
        "id": "LGPW-RwDWgpV"
      },
      "execution_count": null,
      "outputs": []
    },
    {
      "cell_type": "code",
      "source": [
        "set_1 = {1,2,5,7,'Hari','Srikanth','Saumya',2+4j}\n",
        "set_1"
      ],
      "metadata": {
        "id": "v_7AQX3UW9K6"
      },
      "execution_count": null,
      "outputs": []
    },
    {
      "cell_type": "code",
      "source": [
        "set_1[0] = 'demo'"
      ],
      "metadata": {
        "id": "awY6NbspXPdD"
      },
      "execution_count": null,
      "outputs": []
    },
    {
      "cell_type": "code",
      "source": [
        "# Dict (enclosed with {} --- Key-value pair)"
      ],
      "metadata": {
        "id": "lwD6D8SYXTFs"
      },
      "execution_count": null,
      "outputs": []
    },
    {
      "cell_type": "code",
      "source": [
        "dict_1 = {'S.No':1,\n",
        "          'Name':'Hari'}\n",
        "\n",
        "dict_1"
      ],
      "metadata": {
        "id": "R5D3zwpdYD0l"
      },
      "execution_count": null,
      "outputs": []
    },
    {
      "cell_type": "code",
      "source": [
        "dict_1['S.No']"
      ],
      "metadata": {
        "id": "ZaNjQQqzYZP6"
      },
      "execution_count": null,
      "outputs": []
    },
    {
      "cell_type": "code",
      "source": [
        "dict_1 = {'S.No':1,\n",
        "          'Name':'Hari',\n",
        "          'S.Nno':1}\n",
        "\n",
        "dict_1"
      ],
      "metadata": {
        "id": "ga03I6wQYyW8"
      },
      "execution_count": null,
      "outputs": []
    },
    {
      "cell_type": "code",
      "source": [
        "# Indexing & Slicing\n",
        "\n",
        "list1 = [12,11,23,31,'Hari']\n",
        "list2 = [10,[1,2],3,['Hari','Srikanth','Saumya']]"
      ],
      "metadata": {
        "id": "MJP7DmksZEyY"
      },
      "execution_count": 18,
      "outputs": []
    },
    {
      "cell_type": "code",
      "source": [
        "type(list1),type(list2)"
      ],
      "metadata": {
        "colab": {
          "base_uri": "https://localhost:8080/"
        },
        "id": "bVFcCdkfNoUA",
        "outputId": "d2b7c820-c95d-4619-c855-a26fd34b0dc7"
      },
      "execution_count": 14,
      "outputs": [
        {
          "output_type": "execute_result",
          "data": {
            "text/plain": [
              "(list, list)"
            ]
          },
          "metadata": {},
          "execution_count": 14
        }
      ]
    },
    {
      "cell_type": "code",
      "source": [
        "list1[0]"
      ],
      "metadata": {
        "colab": {
          "base_uri": "https://localhost:8080/"
        },
        "id": "eRp8ufIVN3x-",
        "outputId": "a972de83-d3ec-499f-ef21-81bb4a2391ca"
      },
      "execution_count": 15,
      "outputs": [
        {
          "output_type": "execute_result",
          "data": {
            "text/plain": [
              "0"
            ]
          },
          "metadata": {},
          "execution_count": 15
        }
      ]
    },
    {
      "cell_type": "code",
      "source": [
        "list1[4]"
      ],
      "metadata": {
        "colab": {
          "base_uri": "https://localhost:8080/",
          "height": 36
        },
        "id": "zRW_13LzOE1-",
        "outputId": "3b12a677-9e41-41c9-aa10-a29ca004f953"
      },
      "execution_count": 16,
      "outputs": [
        {
          "output_type": "execute_result",
          "data": {
            "text/plain": [
              "'Hari'"
            ],
            "application/vnd.google.colaboratory.intrinsic+json": {
              "type": "string"
            }
          },
          "metadata": {},
          "execution_count": 16
        }
      ]
    },
    {
      "cell_type": "code",
      "source": [
        "list1[0:3]"
      ],
      "metadata": {
        "colab": {
          "base_uri": "https://localhost:8080/"
        },
        "id": "OtcsuDxFOzkd",
        "outputId": "ef71ab9c-3450-498a-a689-3882409d66c8"
      },
      "execution_count": 20,
      "outputs": [
        {
          "output_type": "execute_result",
          "data": {
            "text/plain": [
              "[12, 11, 23]"
            ]
          },
          "metadata": {},
          "execution_count": 20
        }
      ]
    },
    {
      "cell_type": "code",
      "source": [],
      "metadata": {
        "id": "RMaZz8w_PPil"
      },
      "execution_count": null,
      "outputs": []
    }
  ]
}